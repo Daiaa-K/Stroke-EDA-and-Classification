{
 "cells": [
  {
   "cell_type": "markdown",
   "id": "414bed0f",
   "metadata": {},
   "source": [
    "# Importing necessary libraries"
   ]
  },
  {
   "cell_type": "code",
   "execution_count": 1,
   "id": "d27ff347",
   "metadata": {
    "ExecuteTime": {
     "end_time": "2024-06-04T14:00:23.276401Z",
     "start_time": "2024-06-04T14:00:20.286461Z"
    }
   },
   "outputs": [],
   "source": [
    "import numpy as np\n",
    "import pandas as pd \n",
    "import matplotlib.pyplot as plt\n",
    "from pycaret.classification import *"
   ]
  },
  {
   "cell_type": "code",
   "execution_count": 2,
   "id": "1d2d5496",
   "metadata": {
    "ExecuteTime": {
     "end_time": "2024-06-04T14:00:23.293993Z",
     "start_time": "2024-06-04T14:00:23.278415Z"
    }
   },
   "outputs": [],
   "source": [
    "data = pd.read_csv(\"upsampled_data.csv\")"
   ]
  },
  {
   "cell_type": "code",
   "execution_count": 3,
   "id": "b532a95d",
   "metadata": {
    "ExecuteTime": {
     "end_time": "2024-06-04T14:00:23.309439Z",
     "start_time": "2024-06-04T14:00:23.293993Z"
    }
   },
   "outputs": [
    {
     "name": "stdout",
     "output_type": "stream",
     "text": [
      "<class 'pandas.core.frame.DataFrame'>\n",
      "RangeIndex: 9598 entries, 0 to 9597\n",
      "Data columns (total 12 columns):\n",
      " #   Column             Non-Null Count  Dtype  \n",
      "---  ------             --------------  -----  \n",
      " 0   gender             9598 non-null   object \n",
      " 1   age                9598 non-null   float64\n",
      " 2   hypertension       9598 non-null   int64  \n",
      " 3   heart_disease      9598 non-null   int64  \n",
      " 4   ever_married       9598 non-null   object \n",
      " 5   work_type          9598 non-null   object \n",
      " 6   Residence_type     9598 non-null   object \n",
      " 7   avg_glucose_level  9598 non-null   float64\n",
      " 8   bmi                9598 non-null   float64\n",
      " 9   smoking_status     9598 non-null   object \n",
      " 10  stroke             9598 non-null   int64  \n",
      " 11  age_group          9598 non-null   object \n",
      "dtypes: float64(3), int64(3), object(6)\n",
      "memory usage: 899.9+ KB\n"
     ]
    }
   ],
   "source": [
    "data.info()"
   ]
  },
  {
   "cell_type": "code",
   "execution_count": 4,
   "id": "50a8bfaa",
   "metadata": {
    "ExecuteTime": {
     "end_time": "2024-06-04T14:00:23.316421Z",
     "start_time": "2024-06-04T14:00:23.309439Z"
    }
   },
   "outputs": [],
   "source": [
    "cat_cols = list(data.select_dtypes(include=\"object\").columns)"
   ]
  },
  {
   "cell_type": "code",
   "execution_count": 5,
   "id": "e775c395",
   "metadata": {
    "ExecuteTime": {
     "end_time": "2024-06-04T14:00:23.328219Z",
     "start_time": "2024-06-04T14:00:23.316421Z"
    }
   },
   "outputs": [
    {
     "data": {
      "text/plain": [
       "['gender',\n",
       " 'ever_married',\n",
       " 'work_type',\n",
       " 'Residence_type',\n",
       " 'smoking_status',\n",
       " 'age_group']"
      ]
     },
     "execution_count": 5,
     "metadata": {},
     "output_type": "execute_result"
    }
   ],
   "source": [
    "cat_cols"
   ]
  },
  {
   "cell_type": "markdown",
   "id": "699fa24e",
   "metadata": {},
   "source": [
    "# Setting up pycaret"
   ]
  },
  {
   "cell_type": "code",
   "execution_count": 6,
   "id": "c6fee264",
   "metadata": {
    "ExecuteTime": {
     "end_time": "2024-06-04T14:00:24.590185Z",
     "start_time": "2024-06-04T14:00:23.328219Z"
    }
   },
   "outputs": [
    {
     "data": {
      "text/html": [
       "<style type=\"text/css\">\n",
       "#T_b2dc9_row9_col1, #T_b2dc9_row15_col1 {\n",
       "  background-color: lightgreen;\n",
       "}\n",
       "</style>\n",
       "<table id=\"T_b2dc9\">\n",
       "  <thead>\n",
       "    <tr>\n",
       "      <th class=\"blank level0\" >&nbsp;</th>\n",
       "      <th id=\"T_b2dc9_level0_col0\" class=\"col_heading level0 col0\" >Description</th>\n",
       "      <th id=\"T_b2dc9_level0_col1\" class=\"col_heading level0 col1\" >Value</th>\n",
       "    </tr>\n",
       "  </thead>\n",
       "  <tbody>\n",
       "    <tr>\n",
       "      <th id=\"T_b2dc9_level0_row0\" class=\"row_heading level0 row0\" >0</th>\n",
       "      <td id=\"T_b2dc9_row0_col0\" class=\"data row0 col0\" >Session id</td>\n",
       "      <td id=\"T_b2dc9_row0_col1\" class=\"data row0 col1\" >7</td>\n",
       "    </tr>\n",
       "    <tr>\n",
       "      <th id=\"T_b2dc9_level0_row1\" class=\"row_heading level0 row1\" >1</th>\n",
       "      <td id=\"T_b2dc9_row1_col0\" class=\"data row1 col0\" >Target</td>\n",
       "      <td id=\"T_b2dc9_row1_col1\" class=\"data row1 col1\" >stroke</td>\n",
       "    </tr>\n",
       "    <tr>\n",
       "      <th id=\"T_b2dc9_level0_row2\" class=\"row_heading level0 row2\" >2</th>\n",
       "      <td id=\"T_b2dc9_row2_col0\" class=\"data row2 col0\" >Target type</td>\n",
       "      <td id=\"T_b2dc9_row2_col1\" class=\"data row2 col1\" >Binary</td>\n",
       "    </tr>\n",
       "    <tr>\n",
       "      <th id=\"T_b2dc9_level0_row3\" class=\"row_heading level0 row3\" >3</th>\n",
       "      <td id=\"T_b2dc9_row3_col0\" class=\"data row3 col0\" >Original data shape</td>\n",
       "      <td id=\"T_b2dc9_row3_col1\" class=\"data row3 col1\" >(9598, 12)</td>\n",
       "    </tr>\n",
       "    <tr>\n",
       "      <th id=\"T_b2dc9_level0_row4\" class=\"row_heading level0 row4\" >4</th>\n",
       "      <td id=\"T_b2dc9_row4_col0\" class=\"data row4 col0\" >Transformed data shape</td>\n",
       "      <td id=\"T_b2dc9_row4_col1\" class=\"data row4 col1\" >(9598, 24)</td>\n",
       "    </tr>\n",
       "    <tr>\n",
       "      <th id=\"T_b2dc9_level0_row5\" class=\"row_heading level0 row5\" >5</th>\n",
       "      <td id=\"T_b2dc9_row5_col0\" class=\"data row5 col0\" >Transformed train set shape</td>\n",
       "      <td id=\"T_b2dc9_row5_col1\" class=\"data row5 col1\" >(7678, 24)</td>\n",
       "    </tr>\n",
       "    <tr>\n",
       "      <th id=\"T_b2dc9_level0_row6\" class=\"row_heading level0 row6\" >6</th>\n",
       "      <td id=\"T_b2dc9_row6_col0\" class=\"data row6 col0\" >Transformed test set shape</td>\n",
       "      <td id=\"T_b2dc9_row6_col1\" class=\"data row6 col1\" >(1920, 24)</td>\n",
       "    </tr>\n",
       "    <tr>\n",
       "      <th id=\"T_b2dc9_level0_row7\" class=\"row_heading level0 row7\" >7</th>\n",
       "      <td id=\"T_b2dc9_row7_col0\" class=\"data row7 col0\" >Numeric features</td>\n",
       "      <td id=\"T_b2dc9_row7_col1\" class=\"data row7 col1\" >5</td>\n",
       "    </tr>\n",
       "    <tr>\n",
       "      <th id=\"T_b2dc9_level0_row8\" class=\"row_heading level0 row8\" >8</th>\n",
       "      <td id=\"T_b2dc9_row8_col0\" class=\"data row8 col0\" >Categorical features</td>\n",
       "      <td id=\"T_b2dc9_row8_col1\" class=\"data row8 col1\" >6</td>\n",
       "    </tr>\n",
       "    <tr>\n",
       "      <th id=\"T_b2dc9_level0_row9\" class=\"row_heading level0 row9\" >9</th>\n",
       "      <td id=\"T_b2dc9_row9_col0\" class=\"data row9 col0\" >Preprocess</td>\n",
       "      <td id=\"T_b2dc9_row9_col1\" class=\"data row9 col1\" >True</td>\n",
       "    </tr>\n",
       "    <tr>\n",
       "      <th id=\"T_b2dc9_level0_row10\" class=\"row_heading level0 row10\" >10</th>\n",
       "      <td id=\"T_b2dc9_row10_col0\" class=\"data row10 col0\" >Imputation type</td>\n",
       "      <td id=\"T_b2dc9_row10_col1\" class=\"data row10 col1\" >simple</td>\n",
       "    </tr>\n",
       "    <tr>\n",
       "      <th id=\"T_b2dc9_level0_row11\" class=\"row_heading level0 row11\" >11</th>\n",
       "      <td id=\"T_b2dc9_row11_col0\" class=\"data row11 col0\" >Numeric imputation</td>\n",
       "      <td id=\"T_b2dc9_row11_col1\" class=\"data row11 col1\" >mean</td>\n",
       "    </tr>\n",
       "    <tr>\n",
       "      <th id=\"T_b2dc9_level0_row12\" class=\"row_heading level0 row12\" >12</th>\n",
       "      <td id=\"T_b2dc9_row12_col0\" class=\"data row12 col0\" >Categorical imputation</td>\n",
       "      <td id=\"T_b2dc9_row12_col1\" class=\"data row12 col1\" >mode</td>\n",
       "    </tr>\n",
       "    <tr>\n",
       "      <th id=\"T_b2dc9_level0_row13\" class=\"row_heading level0 row13\" >13</th>\n",
       "      <td id=\"T_b2dc9_row13_col0\" class=\"data row13 col0\" >Maximum one-hot encoding</td>\n",
       "      <td id=\"T_b2dc9_row13_col1\" class=\"data row13 col1\" >25</td>\n",
       "    </tr>\n",
       "    <tr>\n",
       "      <th id=\"T_b2dc9_level0_row14\" class=\"row_heading level0 row14\" >14</th>\n",
       "      <td id=\"T_b2dc9_row14_col0\" class=\"data row14 col0\" >Encoding method</td>\n",
       "      <td id=\"T_b2dc9_row14_col1\" class=\"data row14 col1\" >None</td>\n",
       "    </tr>\n",
       "    <tr>\n",
       "      <th id=\"T_b2dc9_level0_row15\" class=\"row_heading level0 row15\" >15</th>\n",
       "      <td id=\"T_b2dc9_row15_col0\" class=\"data row15 col0\" >Normalize</td>\n",
       "      <td id=\"T_b2dc9_row15_col1\" class=\"data row15 col1\" >True</td>\n",
       "    </tr>\n",
       "    <tr>\n",
       "      <th id=\"T_b2dc9_level0_row16\" class=\"row_heading level0 row16\" >16</th>\n",
       "      <td id=\"T_b2dc9_row16_col0\" class=\"data row16 col0\" >Normalize method</td>\n",
       "      <td id=\"T_b2dc9_row16_col1\" class=\"data row16 col1\" >zscore</td>\n",
       "    </tr>\n",
       "    <tr>\n",
       "      <th id=\"T_b2dc9_level0_row17\" class=\"row_heading level0 row17\" >17</th>\n",
       "      <td id=\"T_b2dc9_row17_col0\" class=\"data row17 col0\" >Fold Generator</td>\n",
       "      <td id=\"T_b2dc9_row17_col1\" class=\"data row17 col1\" >StratifiedKFold</td>\n",
       "    </tr>\n",
       "    <tr>\n",
       "      <th id=\"T_b2dc9_level0_row18\" class=\"row_heading level0 row18\" >18</th>\n",
       "      <td id=\"T_b2dc9_row18_col0\" class=\"data row18 col0\" >Fold Number</td>\n",
       "      <td id=\"T_b2dc9_row18_col1\" class=\"data row18 col1\" >10</td>\n",
       "    </tr>\n",
       "    <tr>\n",
       "      <th id=\"T_b2dc9_level0_row19\" class=\"row_heading level0 row19\" >19</th>\n",
       "      <td id=\"T_b2dc9_row19_col0\" class=\"data row19 col0\" >CPU Jobs</td>\n",
       "      <td id=\"T_b2dc9_row19_col1\" class=\"data row19 col1\" >-1</td>\n",
       "    </tr>\n",
       "    <tr>\n",
       "      <th id=\"T_b2dc9_level0_row20\" class=\"row_heading level0 row20\" >20</th>\n",
       "      <td id=\"T_b2dc9_row20_col0\" class=\"data row20 col0\" >Use GPU</td>\n",
       "      <td id=\"T_b2dc9_row20_col1\" class=\"data row20 col1\" >False</td>\n",
       "    </tr>\n",
       "    <tr>\n",
       "      <th id=\"T_b2dc9_level0_row21\" class=\"row_heading level0 row21\" >21</th>\n",
       "      <td id=\"T_b2dc9_row21_col0\" class=\"data row21 col0\" >Log Experiment</td>\n",
       "      <td id=\"T_b2dc9_row21_col1\" class=\"data row21 col1\" >False</td>\n",
       "    </tr>\n",
       "    <tr>\n",
       "      <th id=\"T_b2dc9_level0_row22\" class=\"row_heading level0 row22\" >22</th>\n",
       "      <td id=\"T_b2dc9_row22_col0\" class=\"data row22 col0\" >Experiment Name</td>\n",
       "      <td id=\"T_b2dc9_row22_col1\" class=\"data row22 col1\" >clf-default-name</td>\n",
       "    </tr>\n",
       "    <tr>\n",
       "      <th id=\"T_b2dc9_level0_row23\" class=\"row_heading level0 row23\" >23</th>\n",
       "      <td id=\"T_b2dc9_row23_col0\" class=\"data row23 col0\" >USI</td>\n",
       "      <td id=\"T_b2dc9_row23_col1\" class=\"data row23 col1\" >332f</td>\n",
       "    </tr>\n",
       "  </tbody>\n",
       "</table>\n"
      ],
      "text/plain": [
       "<pandas.io.formats.style.Styler at 0x18bb6384310>"
      ]
     },
     "metadata": {},
     "output_type": "display_data"
    }
   ],
   "source": [
    "settings = setup(data=data ,categorical_features=cat_cols,normalize=True,\n",
    "     normalize_method=\"zscore\",target=\"stroke\",train_size=0.8,session_id=7)"
   ]
  },
  {
   "cell_type": "code",
   "execution_count": 7,
   "id": "424549e4",
   "metadata": {
    "ExecuteTime": {
     "end_time": "2024-06-04T14:00:24.758921Z",
     "start_time": "2024-06-04T14:00:24.590185Z"
    }
   },
   "outputs": [
    {
     "data": {
      "text/html": [
       "<div>\n",
       "<style scoped>\n",
       "    .dataframe tbody tr th:only-of-type {\n",
       "        vertical-align: middle;\n",
       "    }\n",
       "\n",
       "    .dataframe tbody tr th {\n",
       "        vertical-align: top;\n",
       "    }\n",
       "\n",
       "    .dataframe thead th {\n",
       "        text-align: right;\n",
       "    }\n",
       "</style>\n",
       "<table border=\"1\" class=\"dataframe\">\n",
       "  <thead>\n",
       "    <tr style=\"text-align: right;\">\n",
       "      <th></th>\n",
       "      <th>Name</th>\n",
       "      <th>Reference</th>\n",
       "      <th>Turbo</th>\n",
       "    </tr>\n",
       "    <tr>\n",
       "      <th>ID</th>\n",
       "      <th></th>\n",
       "      <th></th>\n",
       "      <th></th>\n",
       "    </tr>\n",
       "  </thead>\n",
       "  <tbody>\n",
       "    <tr>\n",
       "      <th>lr</th>\n",
       "      <td>Logistic Regression</td>\n",
       "      <td>sklearn.linear_model._logistic.LogisticRegression</td>\n",
       "      <td>True</td>\n",
       "    </tr>\n",
       "    <tr>\n",
       "      <th>knn</th>\n",
       "      <td>K Neighbors Classifier</td>\n",
       "      <td>sklearn.neighbors._classification.KNeighborsCl...</td>\n",
       "      <td>True</td>\n",
       "    </tr>\n",
       "    <tr>\n",
       "      <th>nb</th>\n",
       "      <td>Naive Bayes</td>\n",
       "      <td>sklearn.naive_bayes.GaussianNB</td>\n",
       "      <td>True</td>\n",
       "    </tr>\n",
       "    <tr>\n",
       "      <th>dt</th>\n",
       "      <td>Decision Tree Classifier</td>\n",
       "      <td>sklearn.tree._classes.DecisionTreeClassifier</td>\n",
       "      <td>True</td>\n",
       "    </tr>\n",
       "    <tr>\n",
       "      <th>svm</th>\n",
       "      <td>SVM - Linear Kernel</td>\n",
       "      <td>sklearn.linear_model._stochastic_gradient.SGDC...</td>\n",
       "      <td>True</td>\n",
       "    </tr>\n",
       "    <tr>\n",
       "      <th>rbfsvm</th>\n",
       "      <td>SVM - Radial Kernel</td>\n",
       "      <td>sklearn.svm._classes.SVC</td>\n",
       "      <td>False</td>\n",
       "    </tr>\n",
       "    <tr>\n",
       "      <th>gpc</th>\n",
       "      <td>Gaussian Process Classifier</td>\n",
       "      <td>sklearn.gaussian_process._gpc.GaussianProcessC...</td>\n",
       "      <td>False</td>\n",
       "    </tr>\n",
       "    <tr>\n",
       "      <th>mlp</th>\n",
       "      <td>MLP Classifier</td>\n",
       "      <td>sklearn.neural_network._multilayer_perceptron....</td>\n",
       "      <td>False</td>\n",
       "    </tr>\n",
       "    <tr>\n",
       "      <th>ridge</th>\n",
       "      <td>Ridge Classifier</td>\n",
       "      <td>sklearn.linear_model._ridge.RidgeClassifier</td>\n",
       "      <td>True</td>\n",
       "    </tr>\n",
       "    <tr>\n",
       "      <th>rf</th>\n",
       "      <td>Random Forest Classifier</td>\n",
       "      <td>sklearn.ensemble._forest.RandomForestClassifier</td>\n",
       "      <td>True</td>\n",
       "    </tr>\n",
       "    <tr>\n",
       "      <th>qda</th>\n",
       "      <td>Quadratic Discriminant Analysis</td>\n",
       "      <td>sklearn.discriminant_analysis.QuadraticDiscrim...</td>\n",
       "      <td>True</td>\n",
       "    </tr>\n",
       "    <tr>\n",
       "      <th>ada</th>\n",
       "      <td>Ada Boost Classifier</td>\n",
       "      <td>sklearn.ensemble._weight_boosting.AdaBoostClas...</td>\n",
       "      <td>True</td>\n",
       "    </tr>\n",
       "    <tr>\n",
       "      <th>gbc</th>\n",
       "      <td>Gradient Boosting Classifier</td>\n",
       "      <td>sklearn.ensemble._gb.GradientBoostingClassifier</td>\n",
       "      <td>True</td>\n",
       "    </tr>\n",
       "    <tr>\n",
       "      <th>lda</th>\n",
       "      <td>Linear Discriminant Analysis</td>\n",
       "      <td>sklearn.discriminant_analysis.LinearDiscrimina...</td>\n",
       "      <td>True</td>\n",
       "    </tr>\n",
       "    <tr>\n",
       "      <th>et</th>\n",
       "      <td>Extra Trees Classifier</td>\n",
       "      <td>sklearn.ensemble._forest.ExtraTreesClassifier</td>\n",
       "      <td>True</td>\n",
       "    </tr>\n",
       "    <tr>\n",
       "      <th>xgboost</th>\n",
       "      <td>Extreme Gradient Boosting</td>\n",
       "      <td>xgboost.sklearn.XGBClassifier</td>\n",
       "      <td>True</td>\n",
       "    </tr>\n",
       "    <tr>\n",
       "      <th>lightgbm</th>\n",
       "      <td>Light Gradient Boosting Machine</td>\n",
       "      <td>lightgbm.sklearn.LGBMClassifier</td>\n",
       "      <td>True</td>\n",
       "    </tr>\n",
       "    <tr>\n",
       "      <th>dummy</th>\n",
       "      <td>Dummy Classifier</td>\n",
       "      <td>sklearn.dummy.DummyClassifier</td>\n",
       "      <td>True</td>\n",
       "    </tr>\n",
       "  </tbody>\n",
       "</table>\n",
       "</div>"
      ],
      "text/plain": [
       "                                     Name  \\\n",
       "ID                                          \n",
       "lr                    Logistic Regression   \n",
       "knn                K Neighbors Classifier   \n",
       "nb                            Naive Bayes   \n",
       "dt               Decision Tree Classifier   \n",
       "svm                   SVM - Linear Kernel   \n",
       "rbfsvm                SVM - Radial Kernel   \n",
       "gpc           Gaussian Process Classifier   \n",
       "mlp                        MLP Classifier   \n",
       "ridge                    Ridge Classifier   \n",
       "rf               Random Forest Classifier   \n",
       "qda       Quadratic Discriminant Analysis   \n",
       "ada                  Ada Boost Classifier   \n",
       "gbc          Gradient Boosting Classifier   \n",
       "lda          Linear Discriminant Analysis   \n",
       "et                 Extra Trees Classifier   \n",
       "xgboost         Extreme Gradient Boosting   \n",
       "lightgbm  Light Gradient Boosting Machine   \n",
       "dummy                    Dummy Classifier   \n",
       "\n",
       "                                                  Reference  Turbo  \n",
       "ID                                                                  \n",
       "lr        sklearn.linear_model._logistic.LogisticRegression   True  \n",
       "knn       sklearn.neighbors._classification.KNeighborsCl...   True  \n",
       "nb                           sklearn.naive_bayes.GaussianNB   True  \n",
       "dt             sklearn.tree._classes.DecisionTreeClassifier   True  \n",
       "svm       sklearn.linear_model._stochastic_gradient.SGDC...   True  \n",
       "rbfsvm                             sklearn.svm._classes.SVC  False  \n",
       "gpc       sklearn.gaussian_process._gpc.GaussianProcessC...  False  \n",
       "mlp       sklearn.neural_network._multilayer_perceptron....  False  \n",
       "ridge           sklearn.linear_model._ridge.RidgeClassifier   True  \n",
       "rf          sklearn.ensemble._forest.RandomForestClassifier   True  \n",
       "qda       sklearn.discriminant_analysis.QuadraticDiscrim...   True  \n",
       "ada       sklearn.ensemble._weight_boosting.AdaBoostClas...   True  \n",
       "gbc         sklearn.ensemble._gb.GradientBoostingClassifier   True  \n",
       "lda       sklearn.discriminant_analysis.LinearDiscrimina...   True  \n",
       "et            sklearn.ensemble._forest.ExtraTreesClassifier   True  \n",
       "xgboost                       xgboost.sklearn.XGBClassifier   True  \n",
       "lightgbm                    lightgbm.sklearn.LGBMClassifier   True  \n",
       "dummy                         sklearn.dummy.DummyClassifier   True  "
      ]
     },
     "execution_count": 7,
     "metadata": {},
     "output_type": "execute_result"
    }
   ],
   "source": [
    "models()"
   ]
  },
  {
   "cell_type": "markdown",
   "id": "64e2d1f8",
   "metadata": {},
   "source": [
    "# Getting best model using pycaret"
   ]
  },
  {
   "cell_type": "code",
   "execution_count": 8,
   "id": "e21c22f4",
   "metadata": {
    "ExecuteTime": {
     "end_time": "2024-06-04T14:00:43.521025Z",
     "start_time": "2024-06-04T14:00:24.758921Z"
    }
   },
   "outputs": [
    {
     "data": {
      "text/html": [],
      "text/plain": [
       "<IPython.core.display.HTML object>"
      ]
     },
     "metadata": {},
     "output_type": "display_data"
    },
    {
     "data": {
      "text/html": [
       "<style type=\"text/css\">\n",
       "#T_d0fc4 th {\n",
       "  text-align: left;\n",
       "}\n",
       "#T_d0fc4_row0_col0, #T_d0fc4_row1_col0, #T_d0fc4_row1_col1, #T_d0fc4_row1_col4, #T_d0fc4_row1_col5, #T_d0fc4_row1_col6, #T_d0fc4_row1_col7, #T_d0fc4_row2_col0, #T_d0fc4_row2_col1, #T_d0fc4_row2_col2, #T_d0fc4_row2_col4, #T_d0fc4_row2_col5, #T_d0fc4_row2_col6, #T_d0fc4_row2_col7, #T_d0fc4_row3_col0, #T_d0fc4_row3_col1, #T_d0fc4_row3_col2, #T_d0fc4_row3_col4, #T_d0fc4_row3_col5, #T_d0fc4_row3_col6, #T_d0fc4_row3_col7, #T_d0fc4_row4_col0, #T_d0fc4_row4_col1, #T_d0fc4_row4_col2, #T_d0fc4_row4_col4, #T_d0fc4_row4_col5, #T_d0fc4_row4_col6, #T_d0fc4_row4_col7, #T_d0fc4_row5_col0, #T_d0fc4_row5_col1, #T_d0fc4_row5_col2, #T_d0fc4_row5_col4, #T_d0fc4_row5_col5, #T_d0fc4_row5_col6, #T_d0fc4_row5_col7, #T_d0fc4_row6_col0, #T_d0fc4_row6_col1, #T_d0fc4_row6_col2, #T_d0fc4_row6_col3, #T_d0fc4_row6_col4, #T_d0fc4_row6_col5, #T_d0fc4_row6_col6, #T_d0fc4_row6_col7, #T_d0fc4_row7_col0, #T_d0fc4_row7_col1, #T_d0fc4_row7_col2, #T_d0fc4_row7_col3, #T_d0fc4_row7_col4, #T_d0fc4_row7_col5, #T_d0fc4_row7_col6, #T_d0fc4_row7_col7, #T_d0fc4_row8_col0, #T_d0fc4_row8_col1, #T_d0fc4_row8_col2, #T_d0fc4_row8_col3, #T_d0fc4_row8_col4, #T_d0fc4_row8_col5, #T_d0fc4_row8_col6, #T_d0fc4_row8_col7, #T_d0fc4_row9_col0, #T_d0fc4_row9_col1, #T_d0fc4_row9_col2, #T_d0fc4_row9_col3, #T_d0fc4_row9_col4, #T_d0fc4_row9_col5, #T_d0fc4_row9_col6, #T_d0fc4_row9_col7, #T_d0fc4_row10_col0, #T_d0fc4_row10_col1, #T_d0fc4_row10_col2, #T_d0fc4_row10_col3, #T_d0fc4_row10_col4, #T_d0fc4_row10_col5, #T_d0fc4_row10_col6, #T_d0fc4_row10_col7, #T_d0fc4_row11_col0, #T_d0fc4_row11_col1, #T_d0fc4_row11_col2, #T_d0fc4_row11_col3, #T_d0fc4_row11_col4, #T_d0fc4_row11_col5, #T_d0fc4_row11_col6, #T_d0fc4_row11_col7, #T_d0fc4_row12_col0, #T_d0fc4_row12_col1, #T_d0fc4_row12_col2, #T_d0fc4_row12_col3, #T_d0fc4_row12_col4, #T_d0fc4_row12_col5, #T_d0fc4_row12_col6, #T_d0fc4_row12_col7, #T_d0fc4_row13_col0, #T_d0fc4_row13_col1, #T_d0fc4_row13_col2, #T_d0fc4_row13_col3, #T_d0fc4_row13_col4, #T_d0fc4_row13_col5, #T_d0fc4_row13_col6, #T_d0fc4_row13_col7, #T_d0fc4_row14_col0, #T_d0fc4_row14_col1, #T_d0fc4_row14_col2, #T_d0fc4_row14_col3, #T_d0fc4_row14_col4, #T_d0fc4_row14_col5, #T_d0fc4_row14_col6, #T_d0fc4_row14_col7 {\n",
       "  text-align: left;\n",
       "}\n",
       "#T_d0fc4_row0_col1, #T_d0fc4_row0_col2, #T_d0fc4_row0_col3, #T_d0fc4_row0_col4, #T_d0fc4_row0_col5, #T_d0fc4_row0_col6, #T_d0fc4_row0_col7, #T_d0fc4_row1_col2, #T_d0fc4_row1_col3, #T_d0fc4_row2_col3, #T_d0fc4_row3_col3, #T_d0fc4_row4_col3, #T_d0fc4_row5_col3 {\n",
       "  text-align: left;\n",
       "  background-color: yellow;\n",
       "}\n",
       "#T_d0fc4_row0_col8, #T_d0fc4_row1_col8, #T_d0fc4_row3_col8, #T_d0fc4_row4_col8, #T_d0fc4_row5_col8, #T_d0fc4_row6_col8, #T_d0fc4_row7_col8, #T_d0fc4_row8_col8, #T_d0fc4_row10_col8, #T_d0fc4_row11_col8, #T_d0fc4_row12_col8, #T_d0fc4_row13_col8, #T_d0fc4_row14_col8 {\n",
       "  text-align: left;\n",
       "  background-color: lightgrey;\n",
       "}\n",
       "#T_d0fc4_row2_col8, #T_d0fc4_row9_col8 {\n",
       "  text-align: left;\n",
       "  background-color: yellow;\n",
       "  background-color: lightgrey;\n",
       "}\n",
       "</style>\n",
       "<table id=\"T_d0fc4\">\n",
       "  <thead>\n",
       "    <tr>\n",
       "      <th class=\"blank level0\" >&nbsp;</th>\n",
       "      <th id=\"T_d0fc4_level0_col0\" class=\"col_heading level0 col0\" >Model</th>\n",
       "      <th id=\"T_d0fc4_level0_col1\" class=\"col_heading level0 col1\" >Accuracy</th>\n",
       "      <th id=\"T_d0fc4_level0_col2\" class=\"col_heading level0 col2\" >AUC</th>\n",
       "      <th id=\"T_d0fc4_level0_col3\" class=\"col_heading level0 col3\" >Recall</th>\n",
       "      <th id=\"T_d0fc4_level0_col4\" class=\"col_heading level0 col4\" >Prec.</th>\n",
       "      <th id=\"T_d0fc4_level0_col5\" class=\"col_heading level0 col5\" >F1</th>\n",
       "      <th id=\"T_d0fc4_level0_col6\" class=\"col_heading level0 col6\" >Kappa</th>\n",
       "      <th id=\"T_d0fc4_level0_col7\" class=\"col_heading level0 col7\" >MCC</th>\n",
       "      <th id=\"T_d0fc4_level0_col8\" class=\"col_heading level0 col8\" >TT (Sec)</th>\n",
       "    </tr>\n",
       "  </thead>\n",
       "  <tbody>\n",
       "    <tr>\n",
       "      <th id=\"T_d0fc4_level0_row0\" class=\"row_heading level0 row0\" >et</th>\n",
       "      <td id=\"T_d0fc4_row0_col0\" class=\"data row0 col0\" >Extra Trees Classifier</td>\n",
       "      <td id=\"T_d0fc4_row0_col1\" class=\"data row0 col1\" >0.9917</td>\n",
       "      <td id=\"T_d0fc4_row0_col2\" class=\"data row0 col2\" >1.0000</td>\n",
       "      <td id=\"T_d0fc4_row0_col3\" class=\"data row0 col3\" >1.0000</td>\n",
       "      <td id=\"T_d0fc4_row0_col4\" class=\"data row0 col4\" >0.9836</td>\n",
       "      <td id=\"T_d0fc4_row0_col5\" class=\"data row0 col5\" >0.9917</td>\n",
       "      <td id=\"T_d0fc4_row0_col6\" class=\"data row0 col6\" >0.9833</td>\n",
       "      <td id=\"T_d0fc4_row0_col7\" class=\"data row0 col7\" >0.9835</td>\n",
       "      <td id=\"T_d0fc4_row0_col8\" class=\"data row0 col8\" >0.1030</td>\n",
       "    </tr>\n",
       "    <tr>\n",
       "      <th id=\"T_d0fc4_level0_row1\" class=\"row_heading level0 row1\" >rf</th>\n",
       "      <td id=\"T_d0fc4_row1_col0\" class=\"data row1 col0\" >Random Forest Classifier</td>\n",
       "      <td id=\"T_d0fc4_row1_col1\" class=\"data row1 col1\" >0.9885</td>\n",
       "      <td id=\"T_d0fc4_row1_col2\" class=\"data row1 col2\" >1.0000</td>\n",
       "      <td id=\"T_d0fc4_row1_col3\" class=\"data row1 col3\" >1.0000</td>\n",
       "      <td id=\"T_d0fc4_row1_col4\" class=\"data row1 col4\" >0.9776</td>\n",
       "      <td id=\"T_d0fc4_row1_col5\" class=\"data row1 col5\" >0.9887</td>\n",
       "      <td id=\"T_d0fc4_row1_col6\" class=\"data row1 col6\" >0.9771</td>\n",
       "      <td id=\"T_d0fc4_row1_col7\" class=\"data row1 col7\" >0.9773</td>\n",
       "      <td id=\"T_d0fc4_row1_col8\" class=\"data row1 col8\" >0.1060</td>\n",
       "    </tr>\n",
       "    <tr>\n",
       "      <th id=\"T_d0fc4_level0_row2\" class=\"row_heading level0 row2\" >dt</th>\n",
       "      <td id=\"T_d0fc4_row2_col0\" class=\"data row2 col0\" >Decision Tree Classifier</td>\n",
       "      <td id=\"T_d0fc4_row2_col1\" class=\"data row2 col1\" >0.9728</td>\n",
       "      <td id=\"T_d0fc4_row2_col2\" class=\"data row2 col2\" >0.9728</td>\n",
       "      <td id=\"T_d0fc4_row2_col3\" class=\"data row2 col3\" >1.0000</td>\n",
       "      <td id=\"T_d0fc4_row2_col4\" class=\"data row2 col4\" >0.9486</td>\n",
       "      <td id=\"T_d0fc4_row2_col5\" class=\"data row2 col5\" >0.9736</td>\n",
       "      <td id=\"T_d0fc4_row2_col6\" class=\"data row2 col6\" >0.9456</td>\n",
       "      <td id=\"T_d0fc4_row2_col7\" class=\"data row2 col7\" >0.9471</td>\n",
       "      <td id=\"T_d0fc4_row2_col8\" class=\"data row2 col8\" >0.0310</td>\n",
       "    </tr>\n",
       "    <tr>\n",
       "      <th id=\"T_d0fc4_level0_row3\" class=\"row_heading level0 row3\" >xgboost</th>\n",
       "      <td id=\"T_d0fc4_row3_col0\" class=\"data row3 col0\" >Extreme Gradient Boosting</td>\n",
       "      <td id=\"T_d0fc4_row3_col1\" class=\"data row3 col1\" >0.9726</td>\n",
       "      <td id=\"T_d0fc4_row3_col2\" class=\"data row3 col2\" >0.9976</td>\n",
       "      <td id=\"T_d0fc4_row3_col3\" class=\"data row3 col3\" >1.0000</td>\n",
       "      <td id=\"T_d0fc4_row3_col4\" class=\"data row3 col4\" >0.9482</td>\n",
       "      <td id=\"T_d0fc4_row3_col5\" class=\"data row3 col5\" >0.9734</td>\n",
       "      <td id=\"T_d0fc4_row3_col6\" class=\"data row3 col6\" >0.9453</td>\n",
       "      <td id=\"T_d0fc4_row3_col7\" class=\"data row3 col7\" >0.9468</td>\n",
       "      <td id=\"T_d0fc4_row3_col8\" class=\"data row3 col8\" >0.0530</td>\n",
       "    </tr>\n",
       "    <tr>\n",
       "      <th id=\"T_d0fc4_level0_row4\" class=\"row_heading level0 row4\" >lightgbm</th>\n",
       "      <td id=\"T_d0fc4_row4_col0\" class=\"data row4 col0\" >Light Gradient Boosting Machine</td>\n",
       "      <td id=\"T_d0fc4_row4_col1\" class=\"data row4 col1\" >0.9561</td>\n",
       "      <td id=\"T_d0fc4_row4_col2\" class=\"data row4 col2\" >0.9942</td>\n",
       "      <td id=\"T_d0fc4_row4_col3\" class=\"data row4 col3\" >1.0000</td>\n",
       "      <td id=\"T_d0fc4_row4_col4\" class=\"data row4 col4\" >0.9194</td>\n",
       "      <td id=\"T_d0fc4_row4_col5\" class=\"data row4 col5\" >0.9580</td>\n",
       "      <td id=\"T_d0fc4_row4_col6\" class=\"data row4 col6\" >0.9122</td>\n",
       "      <td id=\"T_d0fc4_row4_col7\" class=\"data row4 col7\" >0.9158</td>\n",
       "      <td id=\"T_d0fc4_row4_col8\" class=\"data row4 col8\" >0.1420</td>\n",
       "    </tr>\n",
       "    <tr>\n",
       "      <th id=\"T_d0fc4_level0_row5\" class=\"row_heading level0 row5\" >knn</th>\n",
       "      <td id=\"T_d0fc4_row5_col0\" class=\"data row5 col0\" >K Neighbors Classifier</td>\n",
       "      <td id=\"T_d0fc4_row5_col1\" class=\"data row5 col1\" >0.9235</td>\n",
       "      <td id=\"T_d0fc4_row5_col2\" class=\"data row5 col2\" >0.9716</td>\n",
       "      <td id=\"T_d0fc4_row5_col3\" class=\"data row5 col3\" >1.0000</td>\n",
       "      <td id=\"T_d0fc4_row5_col4\" class=\"data row5 col4\" >0.8676</td>\n",
       "      <td id=\"T_d0fc4_row5_col5\" class=\"data row5 col5\" >0.9291</td>\n",
       "      <td id=\"T_d0fc4_row5_col6\" class=\"data row5 col6\" >0.8471</td>\n",
       "      <td id=\"T_d0fc4_row5_col7\" class=\"data row5 col7\" >0.8573</td>\n",
       "      <td id=\"T_d0fc4_row5_col8\" class=\"data row5 col8\" >0.2870</td>\n",
       "    </tr>\n",
       "    <tr>\n",
       "      <th id=\"T_d0fc4_level0_row6\" class=\"row_heading level0 row6\" >gbc</th>\n",
       "      <td id=\"T_d0fc4_row6_col0\" class=\"data row6 col0\" >Gradient Boosting Classifier</td>\n",
       "      <td id=\"T_d0fc4_row6_col1\" class=\"data row6 col1\" >0.8531</td>\n",
       "      <td id=\"T_d0fc4_row6_col2\" class=\"data row6 col2\" >0.9231</td>\n",
       "      <td id=\"T_d0fc4_row6_col3\" class=\"data row6 col3\" >0.9226</td>\n",
       "      <td id=\"T_d0fc4_row6_col4\" class=\"data row6 col4\" >0.8101</td>\n",
       "      <td id=\"T_d0fc4_row6_col5\" class=\"data row6 col5\" >0.8626</td>\n",
       "      <td id=\"T_d0fc4_row6_col6\" class=\"data row6 col6\" >0.7062</td>\n",
       "      <td id=\"T_d0fc4_row6_col7\" class=\"data row6 col7\" >0.7133</td>\n",
       "      <td id=\"T_d0fc4_row6_col8\" class=\"data row6 col8\" >0.1280</td>\n",
       "    </tr>\n",
       "    <tr>\n",
       "      <th id=\"T_d0fc4_level0_row7\" class=\"row_heading level0 row7\" >ada</th>\n",
       "      <td id=\"T_d0fc4_row7_col0\" class=\"data row7 col0\" >Ada Boost Classifier</td>\n",
       "      <td id=\"T_d0fc4_row7_col1\" class=\"data row7 col1\" >0.8022</td>\n",
       "      <td id=\"T_d0fc4_row7_col2\" class=\"data row7 col2\" >0.8744</td>\n",
       "      <td id=\"T_d0fc4_row7_col3\" class=\"data row7 col3\" >0.8718</td>\n",
       "      <td id=\"T_d0fc4_row7_col4\" class=\"data row7 col4\" >0.7654</td>\n",
       "      <td id=\"T_d0fc4_row7_col5\" class=\"data row7 col5\" >0.8151</td>\n",
       "      <td id=\"T_d0fc4_row7_col6\" class=\"data row7 col6\" >0.6043</td>\n",
       "      <td id=\"T_d0fc4_row7_col7\" class=\"data row7 col7\" >0.6105</td>\n",
       "      <td id=\"T_d0fc4_row7_col8\" class=\"data row7 col8\" >0.0760</td>\n",
       "    </tr>\n",
       "    <tr>\n",
       "      <th id=\"T_d0fc4_level0_row8\" class=\"row_heading level0 row8\" >lda</th>\n",
       "      <td id=\"T_d0fc4_row8_col0\" class=\"data row8 col0\" >Linear Discriminant Analysis</td>\n",
       "      <td id=\"T_d0fc4_row8_col1\" class=\"data row8 col1\" >0.7885</td>\n",
       "      <td id=\"T_d0fc4_row8_col2\" class=\"data row8 col2\" >0.8515</td>\n",
       "      <td id=\"T_d0fc4_row8_col3\" class=\"data row8 col3\" >0.8669</td>\n",
       "      <td id=\"T_d0fc4_row8_col4\" class=\"data row8 col4\" >0.7496</td>\n",
       "      <td id=\"T_d0fc4_row8_col5\" class=\"data row8 col5\" >0.8039</td>\n",
       "      <td id=\"T_d0fc4_row8_col6\" class=\"data row8 col6\" >0.5770</td>\n",
       "      <td id=\"T_d0fc4_row8_col7\" class=\"data row8 col7\" >0.5844</td>\n",
       "      <td id=\"T_d0fc4_row8_col8\" class=\"data row8 col8\" >0.0320</td>\n",
       "    </tr>\n",
       "    <tr>\n",
       "      <th id=\"T_d0fc4_level0_row9\" class=\"row_heading level0 row9\" >ridge</th>\n",
       "      <td id=\"T_d0fc4_row9_col0\" class=\"data row9 col0\" >Ridge Classifier</td>\n",
       "      <td id=\"T_d0fc4_row9_col1\" class=\"data row9 col1\" >0.7884</td>\n",
       "      <td id=\"T_d0fc4_row9_col2\" class=\"data row9 col2\" >0.8516</td>\n",
       "      <td id=\"T_d0fc4_row9_col3\" class=\"data row9 col3\" >0.8669</td>\n",
       "      <td id=\"T_d0fc4_row9_col4\" class=\"data row9 col4\" >0.7494</td>\n",
       "      <td id=\"T_d0fc4_row9_col5\" class=\"data row9 col5\" >0.8038</td>\n",
       "      <td id=\"T_d0fc4_row9_col6\" class=\"data row9 col6\" >0.5767</td>\n",
       "      <td id=\"T_d0fc4_row9_col7\" class=\"data row9 col7\" >0.5841</td>\n",
       "      <td id=\"T_d0fc4_row9_col8\" class=\"data row9 col8\" >0.0310</td>\n",
       "    </tr>\n",
       "    <tr>\n",
       "      <th id=\"T_d0fc4_level0_row10\" class=\"row_heading level0 row10\" >lr</th>\n",
       "      <td id=\"T_d0fc4_row10_col0\" class=\"data row10 col0\" >Logistic Regression</td>\n",
       "      <td id=\"T_d0fc4_row10_col1\" class=\"data row10 col1\" >0.7855</td>\n",
       "      <td id=\"T_d0fc4_row10_col2\" class=\"data row10 col2\" >0.8520</td>\n",
       "      <td id=\"T_d0fc4_row10_col3\" class=\"data row10 col3\" >0.8557</td>\n",
       "      <td id=\"T_d0fc4_row10_col4\" class=\"data row10 col4\" >0.7506</td>\n",
       "      <td id=\"T_d0fc4_row10_col5\" class=\"data row10 col5\" >0.7996</td>\n",
       "      <td id=\"T_d0fc4_row10_col6\" class=\"data row10 col6\" >0.5710</td>\n",
       "      <td id=\"T_d0fc4_row10_col7\" class=\"data row10 col7\" >0.5770</td>\n",
       "      <td id=\"T_d0fc4_row10_col8\" class=\"data row10 col8\" >0.5200</td>\n",
       "    </tr>\n",
       "    <tr>\n",
       "      <th id=\"T_d0fc4_level0_row11\" class=\"row_heading level0 row11\" >svm</th>\n",
       "      <td id=\"T_d0fc4_row11_col0\" class=\"data row11 col0\" >SVM - Linear Kernel</td>\n",
       "      <td id=\"T_d0fc4_row11_col1\" class=\"data row11 col1\" >0.7691</td>\n",
       "      <td id=\"T_d0fc4_row11_col2\" class=\"data row11 col2\" >0.8365</td>\n",
       "      <td id=\"T_d0fc4_row11_col3\" class=\"data row11 col3\" >0.8210</td>\n",
       "      <td id=\"T_d0fc4_row11_col4\" class=\"data row11 col4\" >0.7445</td>\n",
       "      <td id=\"T_d0fc4_row11_col5\" class=\"data row11 col5\" >0.7801</td>\n",
       "      <td id=\"T_d0fc4_row11_col6\" class=\"data row11 col6\" >0.5381</td>\n",
       "      <td id=\"T_d0fc4_row11_col7\" class=\"data row11 col7\" >0.5425</td>\n",
       "      <td id=\"T_d0fc4_row11_col8\" class=\"data row11 col8\" >0.0390</td>\n",
       "    </tr>\n",
       "    <tr>\n",
       "      <th id=\"T_d0fc4_level0_row12\" class=\"row_heading level0 row12\" >nb</th>\n",
       "      <td id=\"T_d0fc4_row12_col0\" class=\"data row12 col0\" >Naive Bayes</td>\n",
       "      <td id=\"T_d0fc4_row12_col1\" class=\"data row12 col1\" >0.6852</td>\n",
       "      <td id=\"T_d0fc4_row12_col2\" class=\"data row12 col2\" >0.8207</td>\n",
       "      <td id=\"T_d0fc4_row12_col3\" class=\"data row12 col3\" >0.9906</td>\n",
       "      <td id=\"T_d0fc4_row12_col4\" class=\"data row12 col4\" >0.6151</td>\n",
       "      <td id=\"T_d0fc4_row12_col5\" class=\"data row12 col5\" >0.7589</td>\n",
       "      <td id=\"T_d0fc4_row12_col6\" class=\"data row12 col6\" >0.3704</td>\n",
       "      <td id=\"T_d0fc4_row12_col7\" class=\"data row12 col7\" >0.4677</td>\n",
       "      <td id=\"T_d0fc4_row12_col8\" class=\"data row12 col8\" >0.0320</td>\n",
       "    </tr>\n",
       "    <tr>\n",
       "      <th id=\"T_d0fc4_level0_row13\" class=\"row_heading level0 row13\" >qda</th>\n",
       "      <td id=\"T_d0fc4_row13_col0\" class=\"data row13 col0\" >Quadratic Discriminant Analysis</td>\n",
       "      <td id=\"T_d0fc4_row13_col1\" class=\"data row13 col1\" >0.6817</td>\n",
       "      <td id=\"T_d0fc4_row13_col2\" class=\"data row13 col2\" >0.7342</td>\n",
       "      <td id=\"T_d0fc4_row13_col3\" class=\"data row13 col3\" >0.8974</td>\n",
       "      <td id=\"T_d0fc4_row13_col4\" class=\"data row13 col4\" >0.6291</td>\n",
       "      <td id=\"T_d0fc4_row13_col5\" class=\"data row13 col5\" >0.7323</td>\n",
       "      <td id=\"T_d0fc4_row13_col6\" class=\"data row13 col6\" >0.3634</td>\n",
       "      <td id=\"T_d0fc4_row13_col7\" class=\"data row13 col7\" >0.4233</td>\n",
       "      <td id=\"T_d0fc4_row13_col8\" class=\"data row13 col8\" >0.0350</td>\n",
       "    </tr>\n",
       "    <tr>\n",
       "      <th id=\"T_d0fc4_level0_row14\" class=\"row_heading level0 row14\" >dummy</th>\n",
       "      <td id=\"T_d0fc4_row14_col0\" class=\"data row14 col0\" >Dummy Classifier</td>\n",
       "      <td id=\"T_d0fc4_row14_col1\" class=\"data row14 col1\" >0.4999</td>\n",
       "      <td id=\"T_d0fc4_row14_col2\" class=\"data row14 col2\" >0.5000</td>\n",
       "      <td id=\"T_d0fc4_row14_col3\" class=\"data row14 col3\" >0.1000</td>\n",
       "      <td id=\"T_d0fc4_row14_col4\" class=\"data row14 col4\" >0.0499</td>\n",
       "      <td id=\"T_d0fc4_row14_col5\" class=\"data row14 col5\" >0.0666</td>\n",
       "      <td id=\"T_d0fc4_row14_col6\" class=\"data row14 col6\" >0.0000</td>\n",
       "      <td id=\"T_d0fc4_row14_col7\" class=\"data row14 col7\" >0.0000</td>\n",
       "      <td id=\"T_d0fc4_row14_col8\" class=\"data row14 col8\" >0.0330</td>\n",
       "    </tr>\n",
       "  </tbody>\n",
       "</table>\n"
      ],
      "text/plain": [
       "<pandas.io.formats.style.Styler at 0x18bb7bf88d0>"
      ]
     },
     "metadata": {},
     "output_type": "display_data"
    },
    {
     "data": {
      "text/html": [],
      "text/plain": [
       "<IPython.core.display.HTML object>"
      ]
     },
     "metadata": {},
     "output_type": "display_data"
    }
   ],
   "source": [
    "best_model = compare_models()"
   ]
  },
  {
   "cell_type": "markdown",
   "id": "98a7a082",
   "metadata": {},
   "source": [
    "# Model evaluation"
   ]
  },
  {
   "cell_type": "code",
   "execution_count": 9,
   "id": "27718330",
   "metadata": {
    "ExecuteTime": {
     "end_time": "2024-06-04T14:00:43.884233Z",
     "start_time": "2024-06-04T14:00:43.521025Z"
    }
   },
   "outputs": [
    {
     "data": {
      "application/vnd.jupyter.widget-view+json": {
       "model_id": "d7025c6deb074e22b917fcdae7d882c7",
       "version_major": 2,
       "version_minor": 0
      },
      "text/plain": [
       "interactive(children=(ToggleButtons(description='Plot Type:', icons=('',), options=(('Pipeline Plot', 'pipelin…"
      ]
     },
     "metadata": {},
     "output_type": "display_data"
    }
   ],
   "source": [
    "evaluate_model(best_model)"
   ]
  }
 ],
 "metadata": {
  "kernelspec": {
   "display_name": "Python 3 (ipykernel)",
   "language": "python",
   "name": "python3"
  },
  "language_info": {
   "codemirror_mode": {
    "name": "ipython",
    "version": 3
   },
   "file_extension": ".py",
   "mimetype": "text/x-python",
   "name": "python",
   "nbconvert_exporter": "python",
   "pygments_lexer": "ipython3",
   "version": "3.11.9"
  },
  "varInspector": {
   "cols": {
    "lenName": 16,
    "lenType": 16,
    "lenVar": 40
   },
   "kernels_config": {
    "python": {
     "delete_cmd_postfix": "",
     "delete_cmd_prefix": "del ",
     "library": "var_list.py",
     "varRefreshCmd": "print(var_dic_list())"
    },
    "r": {
     "delete_cmd_postfix": ") ",
     "delete_cmd_prefix": "rm(",
     "library": "var_list.r",
     "varRefreshCmd": "cat(var_dic_list()) "
    }
   },
   "types_to_exclude": [
    "module",
    "function",
    "builtin_function_or_method",
    "instance",
    "_Feature"
   ],
   "window_display": false
  }
 },
 "nbformat": 4,
 "nbformat_minor": 5
}
